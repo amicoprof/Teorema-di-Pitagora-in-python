{
 "cells": [
  {
   "cell_type": "code",
   "execution_count": 5,
   "metadata": {},
   "outputs": [
    {
     "name": "stdin",
     "output_type": "stream",
     "text": [
      "Inserisci il valore del primo cateto: 3\n",
      "Inserisci il valore del secondo cateto: 4\n"
     ]
    }
   ],
   "source": [
    "cateto_1 = float(input(\"Inserisci il valore del primo cateto:\"))\n",
    "cateto_2 = float(input(\"Inserisci il valore del secondo cateto:\"))"
   ]
  },
  {
   "cell_type": "code",
   "execution_count": 8,
   "metadata": {},
   "outputs": [
    {
     "name": "stdout",
     "output_type": "stream",
     "text": [
      "Ipotenusa = 5.0\n"
     ]
    }
   ],
   "source": [
    "from math import sqrt\n",
    "\n",
    "ipotenusa = sqrt( cateto_1**2 + cateto_2**2)\n",
    "\n",
    "print(\"Ipotenusa =\", ipotenusa)"
   ]
  }
 ],
 "metadata": {
  "kernelspec": {
   "display_name": "Python 3",
   "language": "python",
   "name": "python3"
  },
  "language_info": {
   "codemirror_mode": {
    "name": "ipython",
    "version": 3
   },
   "file_extension": ".py",
   "mimetype": "text/x-python",
   "name": "python",
   "nbconvert_exporter": "python",
   "pygments_lexer": "ipython3",
   "version": "3.8.5"
  }
 },
 "nbformat": 4,
 "nbformat_minor": 4
}
